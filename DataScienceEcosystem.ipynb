{
 "cells": [
  {
   "cell_type": "markdown",
   "id": "21fb9501-8348-4d51-b659-54e459ad68e0",
   "metadata": {},
   "source": [
    "# Data Science Tools and Ecosystem"
   ]
  },
  {
   "cell_type": "markdown",
   "id": "8f35e29b-7179-4f7f-9c38-43ad6efbdf9b",
   "metadata": {},
   "source": [
    "In this notebook, Data Science Tools and Ecosystem are summarized."
   ]
  },
  {
   "cell_type": "markdown",
   "id": "f149f54d-80c2-4a18-b2eb-bba2d6f13dcc",
   "metadata": {},
   "source": [
    "Some of the popular languages that Data Scientists use are:\n",
    "\n",
    "1. R\n",
    "2. Python\n",
    "3. SQL\n",
    "4. JSON\n"
   ]
  },
  {
   "cell_type": "markdown",
   "id": "5bceafaa-9c7d-4b9e-bb1b-617bce9f7608",
   "metadata": {},
   "source": [
    "Some of the commonly used libraries used by Data Scientists include:\n",
    "\n",
    "1. Pandas\n",
    "2. Numpy\n",
    "3. ggplot\n",
    "4. scikit.learn\n",
    "5. stringr"
   ]
  },
  {
   "cell_type": "markdown",
   "id": "5d32170b-df99-47d4-a65a-2471819d83e4",
   "metadata": {},
   "source": [
    "|Data Science Tools|\n",
    "|------------------|\n",
    "|Hadoop|\n",
    "|Apache Spark|\n",
    "|Kubernetes|"
   ]
  },
  {
   "cell_type": "markdown",
   "id": "bbc8b96d-7898-4eca-8efc-8646500c03cd",
   "metadata": {},
   "source": [
    "### Below are a few examples of evaluating arithmetic expressions in Python"
   ]
  },
  {
   "cell_type": "code",
   "execution_count": 20,
   "id": "3f5f329f-82e6-4109-9595-0d4fa23761e2",
   "metadata": {},
   "outputs": [
    {
     "data": {
      "text/plain": [
       "100"
      ]
     },
     "execution_count": 20,
     "metadata": {},
     "output_type": "execute_result"
    }
   ],
   "source": [
    "10*10"
   ]
  },
  {
   "cell_type": "code",
   "execution_count": 22,
   "id": "5daf013f-3a4c-4fae-870f-542ee34a8486",
   "metadata": {},
   "outputs": [
    {
     "data": {
      "text/plain": [
       "1.0"
      ]
     },
     "execution_count": 22,
     "metadata": {},
     "output_type": "execute_result"
    }
   ],
   "source": [
    "4/4"
   ]
  },
  {
   "cell_type": "code",
   "execution_count": 24,
   "id": "f3664d79-9f2f-4a83-8a63-ddb1116e4c6d",
   "metadata": {},
   "outputs": [
    {
     "data": {
      "text/plain": [
       "34"
      ]
     },
     "execution_count": 24,
     "metadata": {},
     "output_type": "execute_result"
    }
   ],
   "source": [
    "2025-1991"
   ]
  },
  {
   "cell_type": "code",
   "execution_count": 28,
   "id": "18b0c4f0-6fab-46c1-8a36-4fe6b1f1f719",
   "metadata": {},
   "outputs": [
    {
     "data": {
      "text/plain": [
       "69"
      ]
     },
     "execution_count": 28,
     "metadata": {},
     "output_type": "execute_result"
    }
   ],
   "source": [
    "68+1"
   ]
  },
  {
   "cell_type": "code",
   "execution_count": 31,
   "id": "7c37dc2f-e961-4ec5-9c18-9e4214a25685",
   "metadata": {},
   "outputs": [
    {
     "data": {
      "text/plain": [
       "17"
      ]
     },
     "execution_count": 31,
     "metadata": {},
     "output_type": "execute_result"
    }
   ],
   "source": [
    "# This a simple arithmetic expression to mutiply then add integers\n",
    "\n",
    "(3*4)+5"
   ]
  },
  {
   "cell_type": "code",
   "execution_count": 37,
   "id": "af29e323-c9d6-42a5-b698-d0bba2ccc78d",
   "metadata": {},
   "outputs": [
    {
     "data": {
      "text/plain": [
       "3.33"
      ]
     },
     "execution_count": 37,
     "metadata": {},
     "output_type": "execute_result"
    }
   ],
   "source": [
    "# This will convert 200 minutes to hours by diving by 60\n",
    "\n",
    "round(200/60,2)\n"
   ]
  },
  {
   "cell_type": "markdown",
   "id": "7173e4d3-d834-400d-bead-6703a32644ca",
   "metadata": {},
   "source": [
    "### Objectives:\n",
    "\n",
    "* List popular languages for Data Science\n",
    "* Learn how to navigate and use GitHub\n",
    "* Learn about R & R Studio\n",
    "* Practice code and markdown in the Jupyter notebook"
   ]
  },
  {
   "cell_type": "markdown",
   "id": "f25d05b0-a8da-473c-8055-f05c04a2437e",
   "metadata": {},
   "source": [
    "## Author\n",
    "    Patricio Coutinho da Silva"
   ]
  },
  {
   "cell_type": "code",
   "execution_count": null,
   "id": "d549b06b-826c-4159-a748-107815a4ee5d",
   "metadata": {},
   "outputs": [],
   "source": []
  }
 ],
 "metadata": {
  "kernelspec": {
   "display_name": "Python 3 (ipykernel)",
   "language": "python",
   "name": "python3"
  },
  "language_info": {
   "codemirror_mode": {
    "name": "ipython",
    "version": 3
   },
   "file_extension": ".py",
   "mimetype": "text/x-python",
   "name": "python",
   "nbconvert_exporter": "python",
   "pygments_lexer": "ipython3",
   "version": "3.12.7"
  }
 },
 "nbformat": 4,
 "nbformat_minor": 5
}
